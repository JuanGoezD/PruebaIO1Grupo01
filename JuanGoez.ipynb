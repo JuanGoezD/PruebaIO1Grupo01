{
  "nbformat": 4,
  "nbformat_minor": 0,
  "metadata": {
    "colab": {
      "provenance": [],
      "authorship_tag": "ABX9TyOcPTRjWjaL7KN3L4u+eO1F",
      "include_colab_link": true
    },
    "kernelspec": {
      "name": "python3",
      "display_name": "Python 3"
    },
    "language_info": {
      "name": "python"
    }
  },
  "cells": [
    {
      "cell_type": "markdown",
      "metadata": {
        "id": "view-in-github",
        "colab_type": "text"
      },
      "source": [
        "<a href=\"https://colab.research.google.com/github/JuanGoezD/PruebaIO1Grupo01/blob/main/JuanGoez.ipynb\" target=\"_parent\"><img src=\"https://colab.research.google.com/assets/colab-badge.svg\" alt=\"Open In Colab\"/></a>"
      ]
    },
    {
      "cell_type": "code",
      "execution_count": null,
      "metadata": {
        "id": "q2XsnzUAdY4t"
      },
      "outputs": [],
      "source": []
    },
    {
      "cell_type": "markdown",
      "source": [
        "# Lolo\n",
        "## Subitulo\n"
      ],
      "metadata": {
        "id": "2GNenhnTeuf1"
      }
    },
    {
      "cell_type": "markdown",
      "source": [
        "## Segundo Ejercicio\n"
      ],
      "metadata": {
        "id": "cX78FE12fJOe"
      }
    },
    {
      "cell_type": "code",
      "source": [
        "print(\"hola\")"
      ],
      "metadata": {
        "colab": {
          "base_uri": "https://localhost:8080/"
        },
        "id": "AcDiFduTfdCD",
        "outputId": "de419952-9213-4270-acb1-0f1fa50386a6"
      },
      "execution_count": 1,
      "outputs": [
        {
          "output_type": "stream",
          "name": "stdout",
          "text": [
            "hola\n"
          ]
        }
      ]
    }
  ]
}